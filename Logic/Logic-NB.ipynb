{
 "cells": [
  {
   "cell_type": "code",
   "execution_count": 7,
   "id": "5d5b97e7-80bd-47b1-acd6-706423d376d8",
   "metadata": {},
   "outputs": [],
   "source": [
    "# Import libraries\n",
    "import cv2\n",
    "import pymongo\n",
    "import gridfs\n",
    "from datetime import datetime\n",
    "import bson\n",
    "import io\n",
    "from datetime import datetime, timezone"
   ]
  },
  {
   "cell_type": "code",
   "execution_count": 8,
   "id": "3f87a6e4-4978-4a13-b31f-61d369d421bb",
   "metadata": {},
   "outputs": [],
   "source": [
    "# Connect to MongoDB\n",
    "client = pymongo.MongoClient(\"mongodb://localhost:27017/\") # default connection string\n",
    "db = client[\"face_db\"]\n",
    "fs = gridfs.GridFS(db)"
   ]
  },
  {
   "cell_type": "code",
   "execution_count": 13,
   "id": "a502bd79-c100-48e4-85a8-23f90b691c6e",
   "metadata": {},
   "outputs": [
    {
     "name": "stdout",
     "output_type": "stream",
     "text": [
      "[INFO] Press 's' to scan your face or 'q' to quit\n",
      "[SUCCESS] Face stored in MongoDB with file ID: 687028b9b54b00f962b6db3a\n"
     ]
    }
   ],
   "source": [
    "# Initialize webcam and face detector\n",
    "cap = cv2.VideoCapture(0)\n",
    "face_cascade = cv2.CascadeClassifier(cv2.data.haarcascades + \"haarcascade_frontalface_default.xml\")\n",
    "\n",
    "print(\"[INFO] Press 's' to scan your face or 'q' to quit\")\n",
    "\n",
    "while True:\n",
    "    ret, frame = cap.read()\n",
    "    if not ret:\n",
    "        break\n",
    "\n",
    "    # Convert to grayscale for detection\n",
    "    gray = cv2.cvtColor(frame, cv2.COLOR_BGR2GRAY)\n",
    "\n",
    "    # Detect faces\n",
    "    faces = face_cascade.detectMultiScale(gray, scaleFactor=1.1, minNeighbors=5)\n",
    "\n",
    "    for (x, y, w, h) in faces:\n",
    "        # Draw rectangle around face\n",
    "        cv2.rectangle(frame, (x, y), (x + w, y + h), (0, 255, 0), 2)\n",
    "\n",
    "    cv2.imshow(\"Face Capture\", frame)\n",
    "\n",
    "    key = cv2.waitKey(1) & 0xFF\n",
    "\n",
    "    if key == ord('s'):  # Save face on pressing 's'\n",
    "        if len(faces) == 0:\n",
    "            print(\"[WARN] No face detected.\")\n",
    "            continue\n",
    "\n",
    "        # Assume only the first face\n",
    "        (x, y, w, h) = faces[0]\n",
    "        face_img = frame[y:y+h, x:x+w]\n",
    "\n",
    "        # Encode image to memory\n",
    "        is_success, buffer = cv2.imencode(\".jpg\", face_img)\n",
    "        io_buf = io.BytesIO(buffer)\n",
    "\n",
    "        # Store in MongoDB using GridFS\n",
    "        metadata = {\n",
    "            \"uploaded_at\": datetime.now(timezone.utc),\n",
    "            \"description\": \"User face image\",\n",
    "            \"format\": \"jpg\"\n",
    "        }\n",
    "        file_id = fs.put(io_buf.getvalue(), filename=\"face.jpg\", metadata=metadata)\n",
    "        print(f\"[SUCCESS] Face stored in MongoDB with file ID: {file_id}\")\n",
    "\n",
    "    elif key == ord('q'):\n",
    "        break\n",
    "\n",
    "# Release everything\n",
    "cap.release()\n",
    "cv2.destroyAllWindows()"
   ]
  },
  {
   "cell_type": "code",
   "execution_count": 15,
   "id": "70cb0028-3c55-43fd-ad62-a8395c2c3e82",
   "metadata": {},
   "outputs": [],
   "source": [
    "\n"
   ]
  },
  {
   "cell_type": "code",
   "execution_count": null,
   "id": "f643b860-51b0-4672-a021-3082ab54a082",
   "metadata": {},
   "outputs": [],
   "source": []
  }
 ],
 "metadata": {
  "kernelspec": {
   "display_name": "Python 3 (ipykernel)",
   "language": "python",
   "name": "python3"
  },
  "language_info": {
   "codemirror_mode": {
    "name": "ipython",
    "version": 3
   },
   "file_extension": ".py",
   "mimetype": "text/x-python",
   "name": "python",
   "nbconvert_exporter": "python",
   "pygments_lexer": "ipython3",
   "version": "3.12.11"
  }
 },
 "nbformat": 4,
 "nbformat_minor": 5
}
